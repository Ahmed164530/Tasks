{
  "nbformat": 4,
  "nbformat_minor": 0,
  "metadata": {
    "colab": {
      "provenance": []
    },
    "kernelspec": {
      "name": "python3",
      "display_name": "Python 3"
    },
    "language_info": {
      "name": "python"
    }
  },
  "cells": [
    {
      "cell_type": "markdown",
      "source": [
        "**Write a Python function to perform linear search on a list**"
      ],
      "metadata": {
        "id": "zICmOr3xM7P3"
      }
    },
    {
      "cell_type": "code",
      "source": [
        "def linear_search(l, number):\n",
        "\n",
        "    for i in range(len(l)):\n",
        "        if l[i] == number:\n",
        "            print(\"Found\",number)\n",
        "    print(\"Not Found\")\n",
        "\n",
        "\n",
        "arr =[1,2,3,4,5,6,7,8,9,10]\n",
        "x =int(input(\"Enter the number to search: \"))\n",
        "\n",
        "linear_search(arr,x)"
      ],
      "metadata": {
        "id": "OHAie4ZsNkge",
        "outputId": "80027cfb-e079-4064-dfdc-d0c01707ab1b",
        "colab": {
          "base_uri": "https://localhost:8080/"
        }
      },
      "execution_count": null,
      "outputs": [
        {
          "output_type": "stream",
          "name": "stdout",
          "text": [
            "Enter the number to search: 11\n",
            "Not Found\n"
          ]
        }
      ]
    },
    {
      "cell_type": "markdown",
      "source": [
        "**Modify the function to return the index of all occurrences of the search element.\n",
        "t**"
      ],
      "metadata": {
        "id": "9gt2NeSINAee"
      }
    },
    {
      "cell_type": "code",
      "source": [
        "def index(l, number):\n",
        "\n",
        "    for i in range(len(l)):\n",
        "        if l[i] == number:\n",
        "            print(\"The Number is Founded & Its Indix =\",i)\n",
        "\n",
        "\n",
        "arr =[1,2,3,4,5,6,7,8,9,10]\n",
        "x =int(input(\"Enter the number to search: \"))\n",
        "\n",
        "index(arr,x)"
      ],
      "metadata": {
        "id": "Drr34lZZNlcd",
        "outputId": "dd446417-ede3-45c9-a4bb-1c9da5e6a7af",
        "colab": {
          "base_uri": "https://localhost:8080/"
        }
      },
      "execution_count": null,
      "outputs": [
        {
          "output_type": "stream",
          "name": "stdout",
          "text": [
            "Enter the number to search: 5\n",
            "The Number is Founded & Its Indix = 4\n"
          ]
        }
      ]
    },
    {
      "cell_type": "markdown",
      "source": [
        "**Create a program to find the maximum element in a list using linear search.**"
      ],
      "metadata": {
        "id": "15VW81ZmNnYt"
      }
    },
    {
      "source": [
        "def find_max(l):\n",
        "\n",
        "  max = l[0]\n",
        "\n",
        "  for i in l:\n",
        "    if i> max:\n",
        "      max = i\n",
        "\n",
        "  print(\"The Maximum Number =\",max)\n",
        "\n",
        "arr =[1,2,3,4,5,6,7,8,9,10,22]\n",
        "find_max(arr)"
      ],
      "cell_type": "code",
      "metadata": {
        "id": "9YYPVSjebwQX",
        "outputId": "90309153-815d-4902-949b-eac6c75abe35",
        "colab": {
          "base_uri": "https://localhost:8080/"
        }
      },
      "execution_count": null,
      "outputs": [
        {
          "output_type": "stream",
          "name": "stdout",
          "text": [
            "The Maximum Number = 22\n"
          ]
        }
      ]
    },
    {
      "cell_type": "markdown",
      "source": [
        "**Implement binary search iteratively in Python**"
      ],
      "metadata": {
        "id": "CC1d9lWHNy4G"
      }
    },
    {
      "cell_type": "code",
      "source": [
        "def binary_search_iterative(arr, x):\n",
        "    low = 0\n",
        "    high = len(arr) - 1\n",
        "    mid = 0\n",
        "\n",
        "    while low <= high:\n",
        "\n",
        "        mid = (high + low) // 2\n",
        "\n",
        "        if arr[mid] < x:\n",
        "            low = mid + 1\n",
        "\n",
        "        elif arr[mid] > x:\n",
        "            high = mid - 1\n",
        "\n",
        "        else:\n",
        "            return mid\n",
        "\n",
        "    return -1\n"
      ],
      "metadata": {
        "id": "qNlprj2ON2sN",
        "outputId": "ef8dd2cd-8ef6-4920-cb37-f88e2f6709df",
        "colab": {
          "base_uri": "https://localhost:8080/"
        }
      },
      "execution_count": null,
      "outputs": [
        {
          "name": "stdout",
          "output_type": "stream",
          "text": [
            "Enter A Number To Search :6\n"
          ]
        }
      ]
    },
    {
      "cell_type": "markdown",
      "source": [
        "**Implement binary search recursively in Python**"
      ],
      "metadata": {
        "id": "zdFByPpjN9VF"
      }
    },
    {
      "source": [
        "def binary_search_recursive(arr, low, high, x):\n",
        "    if high >= low:\n",
        "        mid = (high + low) // 2\n",
        "        if arr[mid] == x:\n",
        "            return mid\n",
        "        elif arr[mid] > x:\n",
        "            return binary_search_recursive(arr, low, mid - 1, x)\n",
        "        else:\n",
        "            return binary_search_recursive(arr, mid + 1, high, x)\n",
        "    else:\n",
        "        return -1"
      ],
      "cell_type": "code",
      "metadata": {
        "id": "IndgenOse_Id"
      },
      "execution_count": null,
      "outputs": []
    },
    {
      "cell_type": "markdown",
      "source": [
        "**Write a program to check if a list is sorted in ascending order using binary search**"
      ],
      "metadata": {
        "id": "XfCbhOl7ODkc"
      }
    },
    {
      "cell_type": "code",
      "source": [
        "l=[1,2,3,4,5,6,7,8,9]\n",
        "\n",
        "s=[8,2,3,4,5,6,10,8,9]\n",
        "\n",
        "\n",
        "if l == sorted(l):\n",
        "  print(\"The List 'L' is Sorted\")\n",
        "else:\n",
        "  print(\"The List 'L' is Not Sorted\")\n",
        "\n",
        "if s == sorted(s):\n",
        "  print(\"The List 'S' is Sorted\")\n",
        "else:\n",
        "  print(\"The List 'S' is Not Sorted\")"
      ],
      "metadata": {
        "id": "f4I1O1IhOGEd",
        "outputId": "c939c48c-8e5a-49e4-81ea-810993dc55bd",
        "colab": {
          "base_uri": "https://localhost:8080/"
        }
      },
      "execution_count": null,
      "outputs": [
        {
          "output_type": "stream",
          "name": "stdout",
          "text": [
            "The List 'L' is Sorted\n",
            "The List 'S' is Not Sorted\n"
          ]
        }
      ]
    },
    {
      "cell_type": "markdown",
      "source": [
        "**Write a Python program to calculate the factorial of a number using a for loop**"
      ],
      "metadata": {
        "id": "5AxShFTYOI90"
      }
    },
    {
      "cell_type": "code",
      "source": [
        "def factorial(x):\n",
        "\n",
        "  fact =x\n",
        "  for i in range(1,x):\n",
        "    fact=fact*i\n",
        "  return fact\n",
        "\n",
        "x =int(input(\"Enter the number to find the factorial: \"))\n",
        "\n",
        "print(\"The Factorial of\",x,\"=\",factorial(x))\n",
        "\n"
      ],
      "metadata": {
        "id": "klPJU-ktOL99",
        "outputId": "3eb5806a-1cf9-4b02-fff2-c7e79dcee818",
        "colab": {
          "base_uri": "https://localhost:8080/"
        }
      },
      "execution_count": null,
      "outputs": [
        {
          "output_type": "stream",
          "name": "stdout",
          "text": [
            "Enter the number to find the factorial: 4\n",
            "The Factorial of 4 = 24\n"
          ]
        }
      ]
    },
    {
      "cell_type": "markdown",
      "source": [
        "**Create a program to generate the Fibonacci sequence up to a certain number of terms using a for loop**"
      ],
      "metadata": {
        "id": "zSD3eH32OOzk"
      }
    },
    {
      "source": [
        "def fibonacci(n):\n",
        "    if n <= 0:\n",
        "        return []\n",
        "    elif n == 1:\n",
        "        return [0]\n",
        "    else:\n",
        "        list_fib = [0, 1]\n",
        "        for i in range(2, n):\n",
        "            next_fib = list_fib[i - 1] + list_fib[i - 2]\n",
        "            list_fib.append(next_fib)\n",
        "        return list_fib\n",
        "\n",
        "\n",
        "x= int(input(\"Enter A Number :\"))\n",
        "\n",
        "print(\"fibonacci sequence is:\",fibonacci(x))"
      ],
      "cell_type": "code",
      "metadata": {
        "id": "tVFAjjoehLeI",
        "outputId": "d9ec9052-b95d-4183-eaff-530523423e60",
        "colab": {
          "base_uri": "https://localhost:8080/"
        }
      },
      "execution_count": null,
      "outputs": [
        {
          "output_type": "stream",
          "name": "stdout",
          "text": [
            "Enter A Number :5\n",
            "fibonacci sequence is: [0, 1, 1, 2, 3]\n"
          ]
        }
      ]
    },
    {
      "cell_type": "markdown",
      "source": [
        "**Write a function to compute the sum of all elements in a list using a for loop**"
      ],
      "metadata": {
        "id": "e7q768hsOUvs"
      }
    },
    {
      "cell_type": "code",
      "source": [
        "def sum(l):\n",
        "  sum =0\n",
        "\n",
        "  for i in range(len(l)):\n",
        "    sum = sum + l[i]\n",
        "  return sum\n",
        "\n",
        "l =[1,2,3,4,5,6]\n",
        "print(\"The Sum of List is :\",sum(l))"
      ],
      "metadata": {
        "id": "hbJ3q5GDOXc0",
        "outputId": "38d8c9ba-fd09-4932-9343-1b76eb4fa297",
        "colab": {
          "base_uri": "https://localhost:8080/"
        }
      },
      "execution_count": null,
      "outputs": [
        {
          "output_type": "stream",
          "name": "stdout",
          "text": [
            "The Sum of List is : 21\n"
          ]
        }
      ]
    },
    {
      "cell_type": "markdown",
      "source": [
        "**Write a Python function to check if a number is prime**"
      ],
      "metadata": {
        "id": "Xc87j9nmObmM"
      }
    },
    {
      "source": [
        "def prime(n):\n",
        "\n",
        "\n",
        "  if n <= 1:\n",
        "      print(\"Not Prime\")\n",
        "  elif n <= 3:\n",
        "     print(\"Prime\")\n",
        "  else:\n",
        "     if n % 2 == 0 or n % 3 == 0:\n",
        "         print(\"Not Prime\")\n",
        "     else:\n",
        "          i = 5\n",
        "          is_prime = True\n",
        "          while i * i <= n:\n",
        "             if n % i == 0 or n % (i + 2) == 0:\n",
        "                  is_prime = False\n",
        "                  break\n",
        "             i += 6\n",
        "          if is_prime:\n",
        "              print(\"Prime\")\n",
        "          else: # This line was incorrectly indented\n",
        "              print(\"Not Prime\")\n",
        "\n",
        "x= int(input(\"Enter A Number :\"))\n",
        "\n",
        "prime(x)"
      ],
      "cell_type": "code",
      "metadata": {
        "id": "4obbxEV_jVcJ",
        "outputId": "76aebef3-22ed-4b64-84a2-dd3393fad448",
        "colab": {
          "base_uri": "https://localhost:8080/"
        }
      },
      "execution_count": null,
      "outputs": [
        {
          "output_type": "stream",
          "name": "stdout",
          "text": [
            "Enter A Number :20\n",
            "Not Prime\n"
          ]
        }
      ]
    },
    {
      "cell_type": "markdown",
      "source": [
        "**Create a function to reverse a string using recursion**"
      ],
      "metadata": {
        "id": "fPpLblWXOhDU"
      }
    },
    {
      "cell_type": "code",
      "source": [
        "def reverse(s):\n",
        "  return  s[::-1]\n",
        "\n",
        "s= input(\"Enters String :\")\n",
        "reverse(s)"
      ],
      "metadata": {
        "id": "ysB4Q620Oj40",
        "outputId": "3315560a-40dd-4d52-b6c9-698d8b803a2f",
        "colab": {
          "base_uri": "https://localhost:8080/",
          "height": 53
        }
      },
      "execution_count": null,
      "outputs": [
        {
          "name": "stdout",
          "output_type": "stream",
          "text": [
            "Enters String :ahmed\n"
          ]
        },
        {
          "output_type": "execute_result",
          "data": {
            "text/plain": [
              "'demha'"
            ],
            "application/vnd.google.colaboratory.intrinsic+json": {
              "type": "string"
            }
          },
          "metadata": {},
          "execution_count": 38
        }
      ]
    },
    {
      "cell_type": "markdown",
      "source": [
        "**Write a program that takes a list of integers and returns the largest number using a function**"
      ],
      "metadata": {
        "id": "4qLP9xYTOltk"
      }
    },
    {
      "cell_type": "code",
      "source": [
        "def largest_int(l):\n",
        "\n",
        "  largest = l[0]\n",
        "\n",
        "  for i in l:\n",
        "    if i> largest:\n",
        "      largest = i\n",
        "  print(\"The Largest Integer Number =\",largest)\n",
        "\n",
        "l =[1,2,3,4,5,6,7,8,9,10,22]\n",
        "largest_int(l)"
      ],
      "metadata": {
        "id": "9wJQseoeOnis",
        "outputId": "f2ab6747-9db7-4029-e3c6-7a94dfdfb70a",
        "colab": {
          "base_uri": "https://localhost:8080/"
        }
      },
      "execution_count": null,
      "outputs": [
        {
          "output_type": "stream",
          "name": "stdout",
          "text": [
            "The Largest Integer Number = 22\n"
          ]
        }
      ]
    },
    {
      "cell_type": "markdown",
      "source": [
        "**Implement selection sort using a function and demonstrate its usage**"
      ],
      "metadata": {
        "id": "2ds4zQmGOpv0"
      }
    },
    {
      "source": [
        "def selection_sort(arr):\n",
        "    n = len(arr)\n",
        "    for i in range(n-1):\n",
        "        min_index = i\n",
        "        for j in range(i+1, n):\n",
        "            if arr[j] < arr[min_index]:\n",
        "                min_index = j\n",
        "        arr[i], arr[min_index] = arr[min_index], arr[i]\n",
        "\n",
        "\n",
        "l = [64, 25, 12, 22, 11]\n",
        "selection_sort(l)\n",
        "print(\"Sorted array:\", l)"
      ],
      "cell_type": "code",
      "metadata": {
        "id": "CVfQm7X2kfRI",
        "outputId": "5e7cb396-f975-435a-8355-a4a1ed3d9b1b",
        "colab": {
          "base_uri": "https://localhost:8080/"
        }
      },
      "execution_count": null,
      "outputs": [
        {
          "output_type": "stream",
          "name": "stdout",
          "text": [
            "Sorted array: [11, 12, 22, 25, 64]\n"
          ]
        }
      ]
    },
    {
      "cell_type": "markdown",
      "source": [
        "**Create a program that uses a function to find the intersection of two lists.**"
      ],
      "metadata": {
        "id": "9d9LdXoRatvh"
      }
    },
    {
      "cell_type": "code",
      "source": [
        "def intersection(l1, l2):\n",
        "    inersection= []\n",
        "    for num in l1:\n",
        "        if num in l2:\n",
        "            inersection.append(num)\n",
        "    return inersection\n",
        "\n",
        "l1 = [1, 2, 3, 4, 5]\n",
        "l2 = [4, 5, 6, 7, 8]\n",
        "print(\"the intersection of two lists is :\",intersection(l1, l2))"
      ],
      "metadata": {
        "id": "r09e5Opsaw8Z",
        "outputId": "2862bdb9-5a60-4525-ff35-5feb22ac22ac",
        "colab": {
          "base_uri": "https://localhost:8080/"
        }
      },
      "execution_count": null,
      "outputs": [
        {
          "output_type": "stream",
          "name": "stdout",
          "text": [
            "the intersection of two lists is : [4, 5]\n"
          ]
        }
      ]
    }
  ]
}