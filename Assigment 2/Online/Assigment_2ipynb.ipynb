{
  "nbformat": 4,
  "nbformat_minor": 0,
  "metadata": {
    "colab": {
      "provenance": []
    },
    "kernelspec": {
      "name": "python3",
      "display_name": "Python 3"
    },
    "language_info": {
      "name": "python"
    }
  },
  "cells": [
    {
      "cell_type": "markdown",
      "source": [
        "1- \tWrite a Python function to multiply all the numbers in a list.\n",
        "Sample List : (8, 2, 3, -1, 7)\n",
        "Expected Output : -336\n"
      ],
      "metadata": {
        "id": "SGnC-_csx3oG"
      }
    },
    {
      "cell_type": "code",
      "source": [
        "def multiply(l):\n",
        "  x=1\n",
        "  for i in range(len(l)):\n",
        "    x=x*l[i]\n",
        "  return x\n",
        "\n",
        "l=[8,2,3,-1,7]\n",
        "print(\"The Multiply Of List = \",multiply(l))"
      ],
      "metadata": {
        "colab": {
          "base_uri": "https://localhost:8080/"
        },
        "id": "TgdMbJtnx5C6",
        "outputId": "d6fadb06-7646-4ffa-e767-9cd35794e037"
      },
      "execution_count": 1,
      "outputs": [
        {
          "output_type": "stream",
          "name": "stdout",
          "text": [
            "The Multiply Of List =  -336\n"
          ]
        }
      ]
    },
    {
      "cell_type": "markdown",
      "source": [
        "2-\tWrite a Python program to reverse a string.\n",
        "Sample String : \"1234abcd\"\n",
        "Expected Output : \"dcba4321\"\n"
      ],
      "metadata": {
        "id": "fOZlj44lx5hb"
      }
    },
    {
      "cell_type": "code",
      "source": [
        "def reverse(s):\n",
        "  return s[::-1]\n",
        "\n",
        "s=\"1234abcd\"\n",
        "print(\"The Reverse String = \",reverse(s))"
      ],
      "metadata": {
        "colab": {
          "base_uri": "https://localhost:8080/"
        },
        "id": "0YyGPrbRx55K",
        "outputId": "ab053e46-ead2-4708-c102-5b8bee73508c"
      },
      "execution_count": 2,
      "outputs": [
        {
          "output_type": "stream",
          "name": "stdout",
          "text": [
            "The Reverse String =  dcba4321\n"
          ]
        }
      ]
    },
    {
      "cell_type": "markdown",
      "source": [
        "3-\tWrite a Python function to calculate the factorial of a number (a non-negative integer). The function accepts the number as an argument."
      ],
      "metadata": {
        "id": "bIVmLnDAx6R-"
      }
    },
    {
      "cell_type": "code",
      "source": [
        "def fact(n):\n",
        "  x =1\n",
        "  if n <0:\n",
        "    print(\"It is Not Factorial\")\n",
        "  else:\n",
        "    for i in range(1,n+1):\n",
        "      x=x*i\n",
        "    print(\"The Factorial =\",x)\n",
        "\n",
        "n =int(input(\"Enter A Number :\"))\n",
        "fact(n)\n"
      ],
      "metadata": {
        "colab": {
          "base_uri": "https://localhost:8080/"
        },
        "id": "LfEBPxQFx6-V",
        "outputId": "39ce1977-980c-4569-dd8f-70fe85ba01d1"
      },
      "execution_count": 8,
      "outputs": [
        {
          "output_type": "stream",
          "name": "stdout",
          "text": [
            "Enter A Number :-1\n",
            "It is Not Factorial\n"
          ]
        }
      ]
    },
    {
      "cell_type": "markdown",
      "source": [
        "4- \tWrite a Python function that accepts a string and counts the number of upper and lower case letters. Sample String : 'The quick Brow Fox'\n",
        "Expected Output :\n",
        "No. of Upper case characters : 3\n",
        "No. of Lower case Characters : 12"
      ],
      "metadata": {
        "id": "SPEosm500It0"
      }
    },
    {
      "cell_type": "code",
      "source": [
        "def upper_lower(s):\n",
        "  upper=0\n",
        "  lower=0\n",
        "  for i in s:\n",
        "    if i.isupper():\n",
        "      upper+=1\n",
        "    elif i.islower():\n",
        "      lower+=1\n",
        "\n",
        "  print(\"No. of Upper case characters : \",upper)\n",
        "  print(\"No. of Lower case Characters : \",lower)\n",
        "\n",
        "s=input(\"Enter String:\")\n",
        "upper_lower(s)"
      ],
      "metadata": {
        "colab": {
          "base_uri": "https://localhost:8080/"
        },
        "id": "3GDhehBY0PJm",
        "outputId": "b5c91f02-b818-4e2f-b150-1f9b01a3dea3"
      },
      "execution_count": 11,
      "outputs": [
        {
          "output_type": "stream",
          "name": "stdout",
          "text": [
            "Enter String:AhmEd\n",
            "No. of Upper case characters :  2\n",
            "No. of Lower case Characters :  3\n"
          ]
        }
      ]
    },
    {
      "cell_type": "markdown",
      "source": [
        "5-\tWrite a Python function that takes a list and returns a new list with distinct elements from the first list.\n",
        "Sample List : [1,2,3,3,3,3,4,5]\n",
        "Unique List : [1, 2, 3, 4, 5]\n"
      ],
      "metadata": {
        "id": "bXRxGqU6026A"
      }
    },
    {
      "cell_type": "code",
      "source": [
        "def uniqe(l):\n",
        "  x=[]\n",
        "  for i in range(len(l)):\n",
        "    if l[i] not in x:\n",
        "      x.append(l[i])\n",
        "  return x\n",
        "\n",
        "l=[1,2,3,3,3,3,4,5]\n",
        "print(\"Unique List = \",uniqe(l))"
      ],
      "metadata": {
        "colab": {
          "base_uri": "https://localhost:8080/"
        },
        "id": "O1jBEM2a03Ul",
        "outputId": "f27b116a-91a3-41d9-85bb-d0a9cce9cc38"
      },
      "execution_count": 12,
      "outputs": [
        {
          "output_type": "stream",
          "name": "stdout",
          "text": [
            "Unique List =  [1, 2, 3, 4, 5]\n"
          ]
        }
      ]
    },
    {
      "cell_type": "markdown",
      "source": [
        "6-\tWrite a Python program to get a single string from two given strings, separated by a space and swap the first two characters of each string.\n",
        "Sample String : 'abc', 'xyz'\n",
        "Expected Result : 'xyc abz'\n"
      ],
      "metadata": {
        "id": "L9uZtvjb1P4P"
      }
    },
    {
      "cell_type": "code",
      "source": [
        "def swap(s1,s2):\n",
        "\n",
        "  new_s1=s1[:2]+s2[2:]\n",
        "  new_s2=s2[:2]+s1[2:]\n",
        "\n",
        "  return new_s1+\" \"+new_s2\n",
        "\n",
        "s1=input(\"Enter First String :\")\n",
        "s2=input(\"Enter Second String :\")\n",
        "print(\"Swap String = \",swap(s1,s2))"
      ],
      "metadata": {
        "colab": {
          "base_uri": "https://localhost:8080/"
        },
        "id": "wjHvndAm1Qvv",
        "outputId": "a49cf0fa-c43d-4991-cb9c-3f77c8ac75a8"
      },
      "execution_count": 14,
      "outputs": [
        {
          "output_type": "stream",
          "name": "stdout",
          "text": [
            "Enter First String :xyz\n",
            "Enter Second String :abc\n",
            "Swap String =  xyc abz\n"
          ]
        }
      ]
    },
    {
      "cell_type": "markdown",
      "source": [
        "7-\tFunction and For Loop Problem: Write a function called find_even_numbers that takes a list of integers and returns a new list containing only the even numbers from the original list. Use a for loop to iterate through the list."
      ],
      "metadata": {
        "id": "ymAn2q1W1_KL"
      }
    },
    {
      "cell_type": "code",
      "source": [
        "def even(l):\n",
        "  x =[]\n",
        "  for i in range(len(l)):\n",
        "    if l[i]%2==0:\n",
        "      x.append(l[i])\n",
        "  return x\n",
        "\n",
        "l =[1,2,3,4,5,6,7,8,9,10]\n",
        "print(\"Even Number = \",even(l))"
      ],
      "metadata": {
        "colab": {
          "base_uri": "https://localhost:8080/"
        },
        "id": "IuoYV9zL1_cF",
        "outputId": "c15ce8d3-29f7-4410-ecb0-6d67e4e1519f"
      },
      "execution_count": 15,
      "outputs": [
        {
          "output_type": "stream",
          "name": "stdout",
          "text": [
            "Even Number =  [2, 4, 6, 8, 10]\n"
          ]
        }
      ]
    },
    {
      "cell_type": "markdown",
      "source": [
        "8-\tLinear Search with Function Problem: Write a function called find_first_occurrence that takes a list of strings and a target string. The function should return the index of the first occurrence of the target string in the list, otherwise it should return -1. Use a for loop and the linear search algorithm"
      ],
      "metadata": {
        "id": "Ua0JG-4m2XoY"
      }
    },
    {
      "cell_type": "code",
      "source": [
        "def find_first_occurrence(l,s):\n",
        "\n",
        "  for i in range(len(l)):\n",
        "    if l[i]==s:\n",
        "      return i\n",
        "    else:\n",
        "      return -1\n",
        "\n",
        "\n",
        "l =[\"Ahmed\",\"Gamal\",\"MEC\",\"AI111\"]\n",
        "s=input(\"Enter String To Search:\")\n",
        "print(\"Indix Of First Occurrence =\",find_first_occurrence(l,s))\n"
      ],
      "metadata": {
        "colab": {
          "base_uri": "https://localhost:8080/"
        },
        "id": "ta1atCIo2X82",
        "outputId": "c9ab601d-8403-498c-bce3-adcd83f0a8b7"
      },
      "execution_count": 34,
      "outputs": [
        {
          "output_type": "stream",
          "name": "stdout",
          "text": [
            "Enter String To Search:ahmed\n",
            "Indix Of First Occurrence = -1\n"
          ]
        }
      ]
    },
    {
      "cell_type": "markdown",
      "source": [
        "9-\tFunction and For Loop Problem: Write a function called sum_of_squares that takes a list of integers and returns the sum of the squares of each integer in the list. Use a for loop to iterate through the list"
      ],
      "metadata": {
        "id": "tWvomeS24Sb_"
      }
    },
    {
      "cell_type": "code",
      "source": [
        "def sum_of_square(l):\n",
        "  x=0\n",
        "  for i in range(len(l)):\n",
        "    x=x+(l[i]**2)\n",
        "  return x\n",
        "\n",
        "\n",
        "l=[1,2,3,4,5]\n",
        "print(\"Sum Of Square = \",sum_of_square(l))"
      ],
      "metadata": {
        "colab": {
          "base_uri": "https://localhost:8080/"
        },
        "id": "PIJyxs0d4Sr-",
        "outputId": "db8da939-7f97-4956-8c91-2b5bd31adb34"
      },
      "execution_count": 35,
      "outputs": [
        {
          "output_type": "stream",
          "name": "stdout",
          "text": [
            "Sum Of Square =  55\n"
          ]
        }
      ]
    },
    {
      "cell_type": "markdown",
      "source": [
        "10 - \tFunction and For Loop with Condition Problem: Write a function called count_occurrences that takes a list of integers and a target integer. The function should return the count of occurrences of the target integer in the list. Use a for loop to iterate through the list.  "
      ],
      "metadata": {
        "id": "jZ0Ck8hF4WLF"
      }
    },
    {
      "cell_type": "code",
      "source": [
        "def count(l,n):\n",
        "  count=0\n",
        "  for i in range(len(l)):\n",
        "    if l[i]==n:\n",
        "      count+=1\n",
        "  return count\n",
        "\n",
        "l=[1,2,3,4,5,6,7,8,9,10,2,3,5,6,1,2]\n",
        "n=int(input(\"Enter Number To Count :\"))\n",
        "print(\"Count Of Number = \",count(l,n))"
      ],
      "metadata": {
        "id": "njKRmAM34WfM"
      },
      "execution_count": null,
      "outputs": []
    }
  ]
}