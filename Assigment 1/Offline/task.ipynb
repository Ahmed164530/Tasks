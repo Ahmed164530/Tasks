{
  "cells": [
    {
      "cell_type": "markdown",
      "id": "759d04ba",
      "metadata": {
        "id": "759d04ba"
      },
      "source": [
        "**1-Write a Python program to calculate the length of a string using 2 ways"
      ]
    },
    {
      "cell_type": "code",
      "execution_count": null,
      "id": "e434c950",
      "metadata": {
        "id": "e434c950",
        "outputId": "1286f7f5-8a6a-4c9c-c742-56e222f82b4f",
        "colab": {
          "base_uri": "https://localhost:8080/"
        }
      },
      "outputs": [
        {
          "output_type": "stream",
          "name": "stdout",
          "text": [
            "The Length of string = 5\n"
          ]
        }
      ],
      "source": [
        "#First Way\n",
        "\n",
        "s= \"Ahmed\"\n",
        "\n",
        "print(\"The Length of string =\", len(s))"
      ]
    },
    {
      "cell_type": "code",
      "execution_count": null,
      "id": "7a2dfa32",
      "metadata": {
        "id": "7a2dfa32",
        "outputId": "ec7145a6-37ac-4add-b093-73ec531fcbb6",
        "colab": {
          "base_uri": "https://localhost:8080/"
        }
      },
      "outputs": [
        {
          "output_type": "stream",
          "name": "stdout",
          "text": [
            "The Length of string = 7\n"
          ]
        }
      ],
      "source": [
        "#Secound Way\n",
        "\n",
        "s= \"Ahmed\"\n",
        "\n",
        "x=0\n",
        "i=0\n",
        "\n",
        "while i < len(s) :\n",
        "  x=x+1\n",
        "  i+=1\n",
        "\n",
        "print(\"The Length of string =\",x)"
      ]
    },
    {
      "cell_type": "markdown",
      "id": "d7cc9da7",
      "metadata": {
        "id": "d7cc9da7"
      },
      "source": [
        "**2-Write a Python program to get a string made of the first 2 and last 2 characters of a given string. If the string length is less than 2, return the empty string instead (\"##Sample String : 'w3resource'\n",
        "Expected Result : 'w3ce'\n",
        "##Sample String : 'w3'\n",
        "Expected Result : 'w3w3'\n",
        "##Sample String : ' w'\n",
        "Expected Result : Empty String)"
      ]
    },
    {
      "cell_type": "code",
      "execution_count": null,
      "id": "dafa9dd8",
      "metadata": {
        "id": "dafa9dd8",
        "outputId": "0920e47d-ccbc-4300-c9a2-8f6193e2f74c",
        "colab": {
          "base_uri": "https://localhost:8080/"
        }
      },
      "outputs": [
        {
          "output_type": "stream",
          "name": "stdout",
          "text": [
            "Enter String:w\n",
            "The String is too short!\n"
          ]
        }
      ],
      "source": [
        "s = input(\"Enter String:\")\n",
        "\n",
        "start = s[0:2]\n",
        "end = s[-2:]\n",
        "\n",
        "if len(s) <= 2 :\n",
        "  print(\"The String is too short!\")\n",
        "else :\n",
        "  print(start+end)"
      ]
    },
    {
      "cell_type": "markdown",
      "id": "1534f956",
      "metadata": {
        "id": "1534f956"
      },
      "source": [
        "**3-Write a Python program to add 'ing' at the end of a given string (length should be at least 3). If the given string already ends with 'ing', add 'ly' instead. If the string length of the given string is less than 3, leave it unchanged. (Sample String : 'abc'\n",
        "Expected Result : 'abcing')"
      ]
    },
    {
      "cell_type": "code",
      "execution_count": null,
      "id": "7ff8cec4",
      "metadata": {
        "id": "7ff8cec4",
        "outputId": "37272cb8-be2d-4254-ae15-251ddcc6e05a",
        "colab": {
          "base_uri": "https://localhost:8080/"
        }
      },
      "outputs": [
        {
          "output_type": "stream",
          "name": "stdout",
          "text": [
            "Enter String:gm\n",
            "String Is Too Short\n"
          ]
        }
      ],
      "source": [
        "s = input(\"Enter String:\")\n",
        "\n",
        "if len(s) <3:\n",
        "  print(\"String Is Too Short\")\n",
        "\n",
        "elif s[-3:] == \"ing\":\n",
        "   print(s.replace(\"ing\",\"ly\"))\n",
        "\n",
        "else :\n",
        "  print(s+\"ing\")\n",
        "\n",
        "\n",
        "\n",
        "\n"
      ]
    },
    {
      "cell_type": "markdown",
      "id": "1c0a6627",
      "metadata": {
        "id": "1c0a6627"
      },
      "source": [
        "**4-Write a Python function that takes a list of words and return the longest word and the length of the longest one\n",
        "(Longest word: Exercises\n",
        "Length of the longest word: 9)"
      ]
    },
    {
      "cell_type": "code",
      "execution_count": null,
      "id": "397341d9",
      "metadata": {
        "id": "397341d9",
        "outputId": "90c04523-e44c-4962-a188-707c568b5730",
        "colab": {
          "base_uri": "https://localhost:8080/"
        }
      },
      "outputs": [
        {
          "output_type": "stream",
          "name": "stdout",
          "text": [
            "The longest word is : mohamed ,And the length of it = 7\n"
          ]
        }
      ],
      "source": [
        "l= [\"Ahmed\",\"AI111\",\"MEC\",\"g\",\"mohamed\"]\n",
        "x = max(l)\n",
        "y = len(x)\n",
        "\n",
        "print(\"The longest word is :\",x,\",And the length of it =\",y)\n"
      ]
    },
    {
      "cell_type": "markdown",
      "id": "53a03a6a",
      "metadata": {
        "id": "53a03a6a"
      },
      "source": [
        "**5-Write a Python program to change a given string to a newly string where the first and last chars have been exchanged using 2 ways (Sample String:abca  Expected Result:ebce)"
      ]
    },
    {
      "cell_type": "code",
      "execution_count": null,
      "id": "fd327d2a",
      "metadata": {
        "id": "fd327d2a",
        "outputId": "e6202604-042e-4d07-db72-c2ba91694d69",
        "colab": {
          "base_uri": "https://localhost:8080/"
        }
      },
      "outputs": [
        {
          "output_type": "stream",
          "name": "stdout",
          "text": [
            "Enter String :ahmed\n",
            "Enter The char you want to replace:z\n",
            "zhmez\n"
          ]
        }
      ],
      "source": [
        "s= input(\"Enter String :\")\n",
        "e = input(\"Enter The char you want to replace:\")\n",
        "print(e+s[1:-1:1]+e)"
      ]
    },
    {
      "cell_type": "markdown",
      "source": [
        "**6-Write a Python program to remove characters that have odd index values in a given string (Sample String:abca Expected Result:ac)"
      ],
      "metadata": {
        "id": "gZFzE_q1qyZJ"
      },
      "id": "gZFzE_q1qyZJ"
    },
    {
      "cell_type": "code",
      "execution_count": null,
      "id": "05959bd7",
      "metadata": {
        "id": "05959bd7",
        "outputId": "9e8e6f9a-63bf-4850-b46f-762bbbd449a5",
        "colab": {
          "base_uri": "https://localhost:8080/"
        }
      },
      "outputs": [
        {
          "output_type": "stream",
          "name": "stdout",
          "text": [
            "Enter String:ahmed\n",
            "a m d "
          ]
        }
      ],
      "source": [
        "s =input(\"Enter String:\")\n",
        "\n",
        "i=0\n",
        "\n",
        "while(i<len(s)):\n",
        "  if i%2 ==0:\n",
        "    print(s[i],end=\" \")\n",
        "    i+=1\n",
        "  else:\n",
        "    i+=1\n",
        "\n"
      ]
    },
    {
      "cell_type": "markdown",
      "id": "eb16e898",
      "metadata": {
        "id": "eb16e898"
      },
      "source": [
        "**7. You have a list of your favourite marvel super heros.\n",
        "```\n",
        "heros=['spider man','thor','hulk','iron man','captain america']\n",
        "```\n",
        "\n",
        "Using this find out,\n",
        "\n",
        "    1. Length of the list\n",
        "    2. Add 'black panther' at the end of this list\n",
        "    3. You realize that you need to add 'black panther' after 'hulk',\n",
        "       so remove it from the list first and then add it after 'hulk'\n",
        "    4. Now you don't like thor and hulk because they get angry easily :)\n",
        "       So you want to remove thor and hulk from list and replace them with doctor strange (because he is cool).\n",
        "       Do that with one line of code.\n",
        "    5. Sort the heros list in alphabetical order (Hint. Use dir() functions to list down all functions available in list)"
      ]
    },
    {
      "cell_type": "code",
      "execution_count": null,
      "id": "01ce6cf5",
      "metadata": {
        "id": "01ce6cf5",
        "outputId": "8494f960-3b0b-45ad-db1d-0dbbfa1cf3f8",
        "colab": {
          "base_uri": "https://localhost:8080/"
        }
      },
      "outputs": [
        {
          "metadata": {
            "tags": null
          },
          "name": "stdout",
          "output_type": "stream",
          "text": [
            "The Length = 5\n",
            "['spider man', 'thor', 'hulk', 'iron man', 'captain america', 'black panther']\n",
            "['spider man', 'thor', 'hulk', 'iron man', 'captain america']\n",
            "['spider man', 'thor', 'hulk', 'black panther', 'iron man', 'captain america']\n",
            "['black panther', 'captain america', 'hulk', 'iron man', 'spider man', 'thor']\n"
          ]
        }
      ],
      "source": [
        "heros=['spider man','thor','hulk','iron man','captain america']\n",
        "print(\"The Length =\",len(heros))\n",
        "\n",
        "heros.append(\"black panther\")\n",
        "print(heros)\n",
        "\n",
        "heros.pop(5)\n",
        "print(heros)\n",
        "\n",
        "heros.insert(3,'black panther')\n",
        "print(heros)\n",
        "\n",
        "heros.sort()\n",
        "print(heros)"
      ]
    },
    {
      "cell_type": "markdown",
      "id": "4e8125f1",
      "metadata": {
        "id": "4e8125f1"
      },
      "source": [
        "**8-Write a Python script that takes input from the user and displays that input back in upper and lower cases"
      ]
    },
    {
      "cell_type": "code",
      "execution_count": null,
      "id": "66c8f778",
      "metadata": {
        "id": "66c8f778",
        "outputId": "d658cd7d-858f-4b54-9255-aeb27808c6a9",
        "colab": {
          "base_uri": "https://localhost:8080/"
        }
      },
      "outputs": [
        {
          "output_type": "stream",
          "name": "stdout",
          "text": [
            "Enter String :aHmEd\n",
            "Upper : AHMED\n",
            "Lower : ahmed\n"
          ]
        }
      ],
      "source": [
        "s = input(\"Enter String :\")\n",
        "\n",
        "print(\"Upper :\",s.upper())\n",
        "print(\"Lower :\",s.lower())"
      ]
    },
    {
      "cell_type": "markdown",
      "id": "fcd68aa1",
      "metadata": {
        "id": "fcd68aa1"
      },
      "source": [
        "**9-Write a Python function to reverse a string if its length is a multiple of 4"
      ]
    },
    {
      "cell_type": "code",
      "source": [],
      "metadata": {
        "id": "40Xrijvm2deC"
      },
      "id": "40Xrijvm2deC",
      "execution_count": null,
      "outputs": []
    },
    {
      "cell_type": "code",
      "execution_count": null,
      "id": "0671a931",
      "metadata": {
        "id": "0671a931",
        "outputId": "bf90f5c7-d077-4310-b66f-649191c82d9f",
        "colab": {
          "base_uri": "https://localhost:8080/"
        }
      },
      "outputs": [
        {
          "output_type": "stream",
          "name": "stdout",
          "text": [
            "Enret String:gmgm\n",
            "mgmg\n"
          ]
        }
      ],
      "source": [
        "s =input(\"Enret String:\")\n",
        "\n",
        "if len(s)%4 ==0:\n",
        "  print(s[::-1])\n",
        "else :\n",
        "  print(s)"
      ]
    },
    {
      "cell_type": "markdown",
      "id": "b577c68d",
      "metadata": {
        "id": "b577c68d"
      },
      "source": [
        "**10- Write a Python program to remove a newline in Python"
      ]
    },
    {
      "cell_type": "code",
      "execution_count": null,
      "id": "e0c6525a",
      "metadata": {
        "id": "e0c6525a",
        "outputId": "0d013261-e32e-4483-990d-498ff58f600d",
        "colab": {
          "base_uri": "https://localhost:8080/"
        }
      },
      "outputs": [
        {
          "output_type": "stream",
          "name": "stdout",
          "text": [
            "Enter String :AHMED\n",
            "AHMED\n"
          ]
        }
      ],
      "source": [
        "s= input(\"Enter String :\")\n",
        "\n",
        "newS= s.replace(\"\\n\",\" \")\n",
        "\n",
        "print(newS)"
      ]
    },
    {
      "cell_type": "markdown",
      "id": "593a68db",
      "metadata": {
        "id": "593a68db"
      },
      "source": [
        "**11- Write a Python program to add prefix text to all of the lines in a string"
      ]
    },
    {
      "cell_type": "code",
      "execution_count": null,
      "id": "0cc4e03e",
      "metadata": {
        "id": "0cc4e03e",
        "outputId": "5ddc34a9-9101-4936-b688-80eb6c7f1dda",
        "colab": {
          "base_uri": "https://localhost:8080/"
        }
      },
      "outputs": [
        {
          "output_type": "stream",
          "name": "stdout",
          "text": [
            "Enter String:gmy\n",
            "gx mx y\n"
          ]
        }
      ],
      "source": [
        "s = input(\"Enter String:\")\n",
        "\n",
        "print(\"x \".join(s))"
      ]
    },
    {
      "cell_type": "markdown",
      "id": "86fa1543",
      "metadata": {
        "id": "86fa1543"
      },
      "source": [
        "**12-Write a Python program to print the following numbers up to 2 decimal places\n",
        "\n",
        "ex:\n",
        "Original Number:  3.1415926                                                                                   \n",
        "Formatted Number: 3.14                                                                                        \n",
        "Original Number:  12.9999                                                                                     \n",
        "Formatted Number: 13.00  \n"
      ]
    },
    {
      "cell_type": "code",
      "execution_count": null,
      "id": "cd4a9d89",
      "metadata": {
        "id": "cd4a9d89",
        "outputId": "216f2b06-81ca-4631-996b-29dc5f0a75d3",
        "colab": {
          "base_uri": "https://localhost:8080/"
        }
      },
      "outputs": [
        {
          "output_type": "stream",
          "name": "stdout",
          "text": [
            "Ente Number :3.1415926\n",
            "Original Number:  3.1415926\n",
            "Formatted Number: 3.14\n"
          ]
        }
      ],
      "source": [
        "num1 = float(input(\"Ente Number :\"))\n",
        "\n",
        "print(\"Original Number: \", num1)\n",
        "print(\"Formatted Number: {:.2f}\".format(num1))"
      ]
    },
    {
      "cell_type": "markdown",
      "id": "452c0ab0",
      "metadata": {
        "id": "452c0ab0"
      },
      "source": [
        "**13-Write a Python program to print the following numbers up to 2 decimal places with a sign"
      ]
    },
    {
      "cell_type": "code",
      "source": [
        "num = float(input(\"Enter a number: \"))\n",
        "print(\"{:.2f}\".format(num))"
      ],
      "metadata": {
        "id": "wDoExTEP2VDU",
        "outputId": "192b22f1-51e6-4c04-a8de-d8081cf1cd01",
        "colab": {
          "base_uri": "https://localhost:8080/"
        }
      },
      "id": "wDoExTEP2VDU",
      "execution_count": null,
      "outputs": [
        {
          "output_type": "stream",
          "name": "stdout",
          "text": [
            "Enter a number: 3.14159\n",
            "3.14\n"
          ]
        }
      ]
    },
    {
      "cell_type": "markdown",
      "id": "32b1811a",
      "metadata": {
        "id": "32b1811a"
      },
      "source": [
        "**14-Write a Python program to display a number with a comma separator"
      ]
    },
    {
      "cell_type": "code",
      "execution_count": null,
      "id": "f30fc0b6",
      "metadata": {
        "id": "f30fc0b6",
        "outputId": "c30b842f-24ff-49e8-c06a-397ee3d4f252",
        "colab": {
          "base_uri": "https://localhost:8080/"
        }
      },
      "outputs": [
        {
          "output_type": "stream",
          "name": "stdout",
          "text": [
            "123,456,789\n"
          ]
        }
      ],
      "source": [
        "num = 123456789\n",
        "print(\"{:,}\".format(num))"
      ]
    },
    {
      "cell_type": "markdown",
      "id": "0477f487",
      "metadata": {
        "id": "0477f487"
      },
      "source": [
        "**15-Write a Python program to reverse a string using 2 ways"
      ]
    },
    {
      "cell_type": "code",
      "source": [
        "#First Way\n",
        "\n",
        "s = input(\"Enter String:\")\n",
        "\n",
        "i=0\n",
        "while i<len(s):\n",
        "  print(s[len(s)-i-1],end=\"\")\n",
        "  i+=1"
      ],
      "metadata": {
        "id": "_GYpl3wB5MVP",
        "outputId": "183a868e-4e49-45d0-c55b-1e4c24ac7469",
        "colab": {
          "base_uri": "https://localhost:8080/"
        }
      },
      "id": "_GYpl3wB5MVP",
      "execution_count": null,
      "outputs": [
        {
          "output_type": "stream",
          "name": "stdout",
          "text": [
            "Enter String:gmy\n",
            "ymg"
          ]
        }
      ]
    },
    {
      "cell_type": "code",
      "execution_count": null,
      "id": "aa8beec8",
      "metadata": {
        "id": "aa8beec8",
        "outputId": "d484b870-8d16-4da6-d086-c8ea51481adc",
        "colab": {
          "base_uri": "https://localhost:8080/"
        }
      },
      "outputs": [
        {
          "output_type": "stream",
          "name": "stdout",
          "text": [
            "Enter String:gmy\n",
            "Original String: gmy\n",
            "Reversed String: ymg\n"
          ]
        }
      ],
      "source": [
        "#Secound Way\n",
        "\n",
        "s = input(\"Enter String:\")\n",
        "print(\"Original String:\",s)\n",
        "\n",
        "x= s[::-1]\n",
        "print(\"Reversed String:\",x)\n",
        "\n"
      ]
    },
    {
      "cell_type": "markdown",
      "id": "3adf5669",
      "metadata": {
        "id": "3adf5669"
      },
      "source": [
        "**16-Write a Python program to remove spaces from a given string"
      ]
    },
    {
      "cell_type": "code",
      "execution_count": null,
      "id": "b4f22602",
      "metadata": {
        "id": "b4f22602",
        "outputId": "b496f168-aaca-45de-e12f-f3a13315eb4f",
        "colab": {
          "base_uri": "https://localhost:8080/"
        }
      },
      "outputs": [
        {
          "output_type": "stream",
          "name": "stdout",
          "text": [
            "Enter String:a h m e d\n",
            "ahmed\n"
          ]
        }
      ],
      "source": [
        "s = input(\"Enter String:\")\n",
        "\n",
        "\n",
        "s = s.replace(\" \",\"\")\n",
        "\n",
        "\n",
        "print(s)"
      ]
    },
    {
      "cell_type": "markdown",
      "id": "509998e2",
      "metadata": {
        "id": "509998e2"
      },
      "source": [
        "**17-write a Python program to swap first and last element of any list."
      ]
    },
    {
      "cell_type": "code",
      "execution_count": null,
      "id": "68692d7f",
      "metadata": {
        "id": "68692d7f",
        "outputId": "ed703051-e29c-4cc1-a379-64f79e056db0",
        "colab": {
          "base_uri": "https://localhost:8080/"
        }
      },
      "outputs": [
        {
          "output_type": "stream",
          "name": "stdout",
          "text": [
            "['gmy', 2, 32, 1]\n"
          ]
        }
      ],
      "source": [
        "l = [1,2,32,\"gmy\"]\n",
        "\n",
        "l[0],l[-1] = l[-1],l[0]\n",
        "\n",
        "print(l)\n",
        "\n",
        "\n"
      ]
    },
    {
      "cell_type": "markdown",
      "id": "959e0837",
      "metadata": {
        "id": "959e0837"
      },
      "source": [
        "**18-Given a list in Python and provided the positions of the elements, write a program to swap the two elements in the list. (Input : List = [23, 65, 19, 90], pos1 = 1, pos2 = 3\n",
        "Output : [19, 65, 23, 90])"
      ]
    },
    {
      "cell_type": "code",
      "execution_count": null,
      "id": "225d8c6d",
      "metadata": {
        "id": "225d8c6d",
        "outputId": "34333f0a-e339-42b4-ae20-2bd57135008e",
        "colab": {
          "base_uri": "https://localhost:8080/"
        }
      },
      "outputs": [
        {
          "output_type": "stream",
          "name": "stdout",
          "text": [
            "[1, 3, 6, 8]\n",
            "Enter Position 1:2\n",
            "Enter Position 2:0\n",
            "[6, 3, 1, 8]\n"
          ]
        }
      ],
      "source": [
        "l = [1,3,6,8]\n",
        "\n",
        "print(l)\n",
        "\n",
        "x= int(input(\"Enter Position1:\"))\n",
        "y= int(input(\"Enter Position2:\"))\n",
        "\n",
        "l[x],l[y] = l[y],l[x]\n",
        "\n",
        "print(l)\n",
        "\n"
      ]
    },
    {
      "cell_type": "markdown",
      "id": "66fc6682",
      "metadata": {
        "id": "66fc6682"
      },
      "source": [
        "**19- search for the all ways to know the length of the list"
      ]
    },
    {
      "cell_type": "code",
      "source": [
        "#First Way\n",
        "\n",
        "l =[1,2,3,4,5]\n",
        "print(len(l))"
      ],
      "metadata": {
        "id": "vng85xGm-0KP"
      },
      "id": "vng85xGm-0KP",
      "execution_count": null,
      "outputs": []
    },
    {
      "cell_type": "code",
      "execution_count": null,
      "id": "SXxZeSP45yDo",
      "metadata": {
        "id": "SXxZeSP45yDo",
        "outputId": "07341262-4ab9-4fb2-b88b-540135390dfb",
        "colab": {
          "base_uri": "https://localhost:8080/"
        }
      },
      "outputs": [
        {
          "output_type": "stream",
          "name": "stdout",
          "text": [
            "5\n",
            "5\n"
          ]
        }
      ],
      "source": [
        "#Secound Way\n",
        "\n",
        "l =[1,2,3,4,5]\n",
        "\n",
        "i =0\n",
        "while i<len(l):\n",
        "  i+=1\n",
        "\n",
        "print(i)"
      ]
    },
    {
      "cell_type": "markdown",
      "id": "19hrUOPJ5rmq",
      "metadata": {
        "id": "19hrUOPJ5rmq"
      },
      "source": [
        "**20-write a Python code to find the Maximum number of list of numbers."
      ]
    },
    {
      "cell_type": "code",
      "execution_count": null,
      "id": "1a89b9d3",
      "metadata": {
        "id": "1a89b9d3",
        "outputId": "33a0974e-7653-48eb-f865-022dcafe1f35",
        "colab": {
          "base_uri": "https://localhost:8080/"
        }
      },
      "outputs": [
        {
          "output_type": "stream",
          "name": "stdout",
          "text": [
            "6\n"
          ]
        }
      ],
      "source": [
        "l =[1,2,3,4,5,6]\n",
        "\n",
        "print(max(l))"
      ]
    },
    {
      "cell_type": "markdown",
      "id": "tdz5uTRQ50aA",
      "metadata": {
        "id": "tdz5uTRQ50aA"
      },
      "source": [
        "**21-write a Python code to find the Minimum number of list of numbers."
      ]
    },
    {
      "cell_type": "code",
      "execution_count": null,
      "id": "21f8cbd6",
      "metadata": {
        "id": "21f8cbd6",
        "outputId": "f260abdb-6148-4cfc-90df-d056ca87681b",
        "colab": {
          "base_uri": "https://localhost:8080/"
        }
      },
      "outputs": [
        {
          "output_type": "stream",
          "name": "stdout",
          "text": [
            "1\n"
          ]
        }
      ],
      "source": [
        "l =[1,2,3,4,5,6]\n",
        "\n",
        "print(min(l))"
      ]
    },
    {
      "cell_type": "markdown",
      "id": "96822d96",
      "metadata": {
        "id": "96822d96"
      },
      "source": [
        "**22-search for if an elem is existing in list"
      ]
    },
    {
      "cell_type": "code",
      "execution_count": null,
      "id": "51ca5c9a",
      "metadata": {
        "id": "51ca5c9a",
        "outputId": "6da59fac-53ec-49b7-ea8a-9321d7a43b8f",
        "colab": {
          "base_uri": "https://localhost:8080/"
        }
      },
      "outputs": [
        {
          "output_type": "stream",
          "name": "stdout",
          "text": [
            "enter number :8\n",
            "Not Existing\n"
          ]
        }
      ],
      "source": [
        "l =[1,2,3,4,5,6]\n",
        "\n",
        "x = int(input(\"enter number :\"))\n",
        "\n",
        "if x in l :\n",
        "  print(\"Existing\")\n",
        "else:\n",
        "  print(\"Not Existing\")\n",
        "\n",
        "\n"
      ]
    },
    {
      "cell_type": "markdown",
      "id": "d9557da7",
      "metadata": {
        "id": "d9557da7"
      },
      "source": [
        "**23- clear python list using different ways"
      ]
    },
    {
      "cell_type": "code",
      "execution_count": null,
      "id": "b69858a3",
      "metadata": {
        "id": "b69858a3",
        "outputId": "6fbe67c7-f1fb-4265-8827-9f328038fc6c",
        "colab": {
          "base_uri": "https://localhost:8080/"
        }
      },
      "outputs": [
        {
          "output_type": "stream",
          "name": "stdout",
          "text": [
            "[1, 2, 3, 4, 5, 6]\n",
            "[]\n",
            "[]\n"
          ]
        }
      ],
      "source": [
        "l =[1,2,3,4,5,6]\n",
        "print(l)\n",
        "\n",
        "l.clear()\n",
        "print(l)\n",
        "\n",
        "i=0\n",
        "while i<len(l):\n",
        "  l.pop(i)\n",
        "print(l)"
      ]
    },
    {
      "cell_type": "markdown",
      "id": "52160e88",
      "metadata": {
        "id": "52160e88"
      },
      "source": [
        "**24-remove duplicated elements from a list"
      ]
    },
    {
      "cell_type": "code",
      "source": [
        "l = [1,2,3,4,5,1,5,6]\n",
        "print(l)\n",
        "\n",
        "l= list(set(l))\n",
        "print(l)\n",
        "\n"
      ],
      "metadata": {
        "id": "PDgm0wQ3sYkh",
        "outputId": "02a4347f-670c-410c-c75d-86c45ee779c8",
        "colab": {
          "base_uri": "https://localhost:8080/"
        }
      },
      "id": "PDgm0wQ3sYkh",
      "execution_count": null,
      "outputs": [
        {
          "output_type": "stream",
          "name": "stdout",
          "text": [
            "[1, 2, 3, 4, 5, 1, 5, 6]\n",
            "[1, 2, 3, 4, 5, 6]\n"
          ]
        }
      ]
    },
    {
      "cell_type": "markdown",
      "id": "c26b6e9f",
      "metadata": {
        "id": "c26b6e9f"
      },
      "source": [
        "**25-write a python program to count unique values inside a list using different ways"
      ]
    },
    {
      "cell_type": "code",
      "execution_count": null,
      "id": "72132667",
      "metadata": {
        "id": "72132667",
        "outputId": "6112e60d-56d6-47af-8e5e-ba12d44c6eb5",
        "colab": {
          "base_uri": "https://localhost:8080/"
        }
      },
      "outputs": [
        {
          "output_type": "stream",
          "name": "stdout",
          "text": [
            "Enter Number To Get count6\n",
            "2\n"
          ]
        }
      ],
      "source": [
        "l = [1,2,3,4,5,6,6]\n",
        "x= int(input(\"Enter Number To Get count:\"))\n",
        "print(l.count(x))\n"
      ]
    },
    {
      "cell_type": "markdown",
      "id": "fed6677c",
      "metadata": {
        "id": "fed6677c"
      },
      "source": [
        "**26-write a python program Extract all elements with Frequency greater than K (Input : test_list = [4, 6, 4, 3, 3, 4, 3, 4, 3, 8], K = 3\n",
        "Output : [4, 3] )"
      ]
    },
    {
      "cell_type": "code",
      "execution_count": null,
      "id": "d81f3f9d",
      "metadata": {
        "id": "d81f3f9d",
        "outputId": "c62204ab-b45c-49b8-ad08-eabdb74c93ff",
        "colab": {
          "base_uri": "https://localhost:8080/"
        }
      },
      "outputs": [
        {
          "output_type": "stream",
          "name": "stdout",
          "text": [
            "[4, 3]\n"
          ]
        }
      ],
      "source": [
        "test_list = [4, 6, 4, 3, 3, 4, 3, 4, 3, 8]\n",
        "K = 3\n",
        "res = []\n",
        "for i in test_list:\n",
        "    freq = test_list.count(i)\n",
        "    if freq > K and i not in res:\n",
        "        res.append(i)\n",
        "print(str(res))"
      ]
    },
    {
      "cell_type": "markdown",
      "id": "caca5224",
      "metadata": {
        "id": "caca5224"
      },
      "source": [
        "**27-write a python program to find the Strongest Neighbour (Input: 1 2 2 3 4 5\n",
        "Output:  5)"
      ]
    },
    {
      "cell_type": "code",
      "execution_count": null,
      "id": "39fbd9b2",
      "metadata": {
        "id": "39fbd9b2",
        "outputId": "8f5cbe9b-7b1b-4888-8494-987edb0dc893",
        "colab": {
          "base_uri": "https://localhost:8080/"
        }
      },
      "outputs": [
        {
          "output_type": "stream",
          "name": "stdout",
          "text": [
            "The Strongest = 5\n"
          ]
        }
      ],
      "source": [
        "l=[1,2,2,3,4,5]\n",
        "\n",
        "x= max(l)\n",
        "\n",
        "print(\"The Strongest =\",x)"
      ]
    },
    {
      "cell_type": "markdown",
      "id": "a9fa8baf",
      "metadata": {
        "id": "a9fa8baf"
      },
      "source": [
        "**28-write a Python Program to print all Possible Combinations from the three Digits (Input: [1, 2, 3]\n",
        "Output:\n",
        "1 2 3 ##\n",
        "1 3 2 ##\n",
        "2 1 3 ##\n",
        "2 3 1 ##\n",
        "3 1 2 ##\n",
        "3 2 1)"
      ]
    },
    {
      "cell_type": "code",
      "execution_count": null,
      "id": "8c520a76",
      "metadata": {
        "id": "8c520a76",
        "outputId": "cb865fc8-19b5-4da1-ba2b-24963ccd8d38",
        "colab": {
          "base_uri": "https://localhost:8080/"
        }
      },
      "outputs": [
        {
          "output_type": "stream",
          "name": "stdout",
          "text": [
            "1 2 3 ##\n",
            "1 3 2 ##\n",
            "2 1 3 ##\n",
            "2 3 1 ##\n",
            "3 1 2 ##\n",
            "3 2 1 ##\n"
          ]
        }
      ],
      "source": []
    },
    {
      "cell_type": "markdown",
      "source": [],
      "metadata": {
        "id": "k4rwZs0-DzvU"
      },
      "id": "k4rwZs0-DzvU"
    },
    {
      "cell_type": "markdown",
      "id": "5288bb89",
      "metadata": {
        "id": "5288bb89"
      },
      "source": [
        "**29-write a Python program to find all the Combinations in the list with the given condition (Input: test_list = [1,2,3]\n",
        "Output:\n",
        " [1], [1, 2], [1, 2, 3], [1, 3]\n",
        " [2], [2, 3], [3])"
      ]
    },
    {
      "cell_type": "code",
      "execution_count": null,
      "id": "59b89646",
      "metadata": {
        "id": "59b89646"
      },
      "outputs": [],
      "source": []
    },
    {
      "cell_type": "markdown",
      "id": "39973705",
      "metadata": {
        "id": "39973705"
      },
      "source": [
        "**30-write a Python program to get all unique combinations of two Lists (List_1 = [\"a\",\"b\"]\n",
        "List_2 = [1,2]\n",
        "Unique_combination = [[('a',1),('b',2)],[('a',2),('b',1)]] )"
      ]
    },
    {
      "cell_type": "code",
      "source": [],
      "metadata": {
        "id": "CQgD0TLjsJAk"
      },
      "id": "CQgD0TLjsJAk",
      "execution_count": null,
      "outputs": []
    },
    {
      "cell_type": "markdown",
      "id": "255fd554",
      "metadata": {
        "id": "255fd554"
      },
      "source": [
        "**31- Write a Python program that finds all pairs of elements in a list whose sum is equal to a given value."
      ]
    },
    {
      "source": [
        "l =[1,2,3,4,5,6,7,8,9]\n",
        "x=int(input(\"Enter Sum To Search :\"))\n",
        "\n",
        "for i in range(len(l)):\n",
        "  for j in range(i+1,len(l)):\n",
        "    if l[i]+l[j] == x :\n",
        "      print(l[i],l[j])\n"
      ],
      "cell_type": "code",
      "metadata": {
        "id": "HRs4ksfAr8mz",
        "outputId": "55fb1acd-afc6-4b22-ac4a-ef2392980e70",
        "colab": {
          "base_uri": "https://localhost:8080/"
        }
      },
      "id": "HRs4ksfAr8mz",
      "execution_count": null,
      "outputs": [
        {
          "output_type": "stream",
          "name": "stdout",
          "text": [
            "Enter Sum To Search :7\n",
            "1 6\n",
            "2 5\n",
            "3 4\n"
          ]
        }
      ]
    },
    {
      "cell_type": "markdown",
      "id": "-74fqJe7BnOk",
      "metadata": {
        "id": "-74fqJe7BnOk"
      },
      "source": [
        "**32- I have a string variable called s='maine 200 banana khaye'. This of course is a wrong statement, the correct statement is 'maine 10 samosa khaye'. Replace incorrect words in original strong with new ones and print the new string. Also try to do this in one line."
      ]
    },
    {
      "cell_type": "code",
      "execution_count": null,
      "id": "OG2czwLvBzQy",
      "metadata": {
        "id": "OG2czwLvBzQy",
        "outputId": "a576de77-c571-4b95-8e28-9dc42f0274aa",
        "colab": {
          "base_uri": "https://localhost:8080/"
        }
      },
      "outputs": [
        {
          "output_type": "stream",
          "name": "stdout",
          "text": [
            "maine 10 samosa khaye\n"
          ]
        }
      ],
      "source": [
        "s = \"maine 200 banana khaye\"\n",
        "\n",
        "s= s.replace(\"200 banana\",\"10 samosa\")\n",
        "\n",
        "print(s)"
      ]
    },
    {
      "cell_type": "markdown",
      "id": "RXUy-aQmB7UP",
      "metadata": {
        "id": "RXUy-aQmB7UP"
      },
      "source": [
        "**33.  You have a list of your favourite marvel super heros.\n",
        "```\n",
        "heros=['spider man','thor','hulk','iron man','captain america']\n",
        "```\n",
        "\n",
        "Using this find out,\n",
        "\n",
        "    1. Length of the list\n",
        "    2. Add 'black panther' at the end of this list\n",
        "    3. You realize that you need to add 'black panther' after 'hulk',\n",
        "       so remove it from the list first and then add it after 'hulk'\n",
        "    4. Now you don't like thor and hulk because they get angry easily :)\n",
        "       So you want to remove thor and hulk from list and replace them with doctor strange (because he is cool).\n",
        "       Do that with one line of code.\n",
        "    5. Sort the heros list in alphabetical order (Hint. Use dir() functions to list down all functions available in list)"
      ]
    },
    {
      "cell_type": "code",
      "execution_count": null,
      "id": "7QBxB-9eB9U5",
      "metadata": {
        "id": "7QBxB-9eB9U5",
        "outputId": "51b68780-3f3e-4d60-bd90-2e3551a52064",
        "colab": {
          "base_uri": "https://localhost:8080/"
        }
      },
      "outputs": [
        {
          "output_type": "stream",
          "name": "stdout",
          "text": [
            "['spider man', 'thor', 'hulk', 'iron man', 'captain america']\n",
            "['spider man', 'thor', 'hulk', 'iron man', 'captain america', 'black panther']\n",
            "['spider man', 'thor', 'hulk', 'black panther', 'iron man', 'captain america']\n",
            "['spider man', 'doctor strange', 'black panther', 'iron man', 'captain america']\n",
            "['black panther', 'captain america', 'doctor strange', 'iron man', 'spider man']\n"
          ]
        }
      ],
      "source": [
        "heros=['spider man','thor','hulk','iron man','captain america']\n",
        "print(heros)\n",
        "\n",
        "heros.append(\"black panther\")\n",
        "print(heros)\n",
        "\n",
        "heros.pop(5)\n",
        "heros.insert(3,'black panther')\n",
        "print(heros)\n",
        "\n",
        "heros[1:3] = ['doctor strange']\n",
        "print(heros)\n",
        "\n",
        "heros.sort()\n",
        "print(heros)\n"
      ]
    }
  ],
  "metadata": {
    "colab": {
      "provenance": []
    },
    "kernelspec": {
      "display_name": "Python 3 (ipykernel)",
      "language": "python",
      "name": "python3"
    },
    "language_info": {
      "codemirror_mode": {
        "name": "ipython",
        "version": 3
      },
      "file_extension": ".py",
      "mimetype": "text/x-python",
      "name": "python",
      "nbconvert_exporter": "python",
      "pygments_lexer": "ipython3",
      "version": "3.9.13"
    }
  },
  "nbformat": 4,
  "nbformat_minor": 5
}