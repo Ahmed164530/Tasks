{
  "nbformat": 4,
  "nbformat_minor": 0,
  "metadata": {
    "colab": {
      "provenance": []
    },
    "kernelspec": {
      "name": "python3",
      "display_name": "Python 3"
    },
    "language_info": {
      "name": "python"
    }
  },
  "cells": [
    {
      "cell_type": "code",
      "execution_count": 5,
      "metadata": {
        "colab": {
          "base_uri": "https://localhost:8080/"
        },
        "id": "ZuB9xIUyAbsi",
        "outputId": "b077c0f4-16b3-4e9c-8acd-9ec7e4fe2f54"
      },
      "outputs": [
        {
          "output_type": "stream",
          "name": "stdout",
          "text": [
            "1 + 2 + 3 + 4 + 5 + 6 + 7 + 8 + 9 + 10\n"
          ]
        }
      ],
      "source": [
        "l =['1','2','3','4','5','6','7','8','9','10']\n",
        "\n",
        "s=\"\"\n",
        "\n",
        "s=' + '.join(l)\n",
        "\n",
        "print(s)"
      ]
    }
  ]
}